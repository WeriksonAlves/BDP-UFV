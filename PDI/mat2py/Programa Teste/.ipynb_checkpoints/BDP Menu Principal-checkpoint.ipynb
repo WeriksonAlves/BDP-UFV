{
 "cells": [
  {
   "cell_type": "code",
   "execution_count": null,
   "id": "c858047c",
   "metadata": {},
   "outputs": [],
   "source": [
    "#                           PLATAFORMA BDP 2022\n",
    "#\n",
    "# Conjunto de abas que permite ao usuario ter acesso às  informações do sistema através da interface gráfica. "
   ]
  },
  {
   "cell_type": "code",
   "execution_count": 6,
   "id": "07ac21bf",
   "metadata": {
    "ExecuteTime": {
     "end_time": "2021-11-02T17:17:32.108820Z",
     "start_time": "2021-11-02T17:17:26.113756Z"
    }
   },
   "outputs": [],
   "source": [
    "from kivy.app import App\n",
    "from kivy.uix.button import Button\n",
    "\n",
    "class Test(App):\n",
    "    def build(self):\n",
    "        return Button(text='Olá Mundo')\n",
    "Test().run()"
   ]
  },
  {
   "cell_type": "code",
   "execution_count": 10,
   "id": "7f35181a",
   "metadata": {
    "ExecuteTime": {
     "end_time": "2021-11-02T17:46:48.053189Z",
     "start_time": "2021-11-02T17:46:38.651005Z"
    }
   },
   "outputs": [
    {
     "name": "stdout",
     "output_type": "stream",
     "text": [
      "\n",
      "    Dólar: 5.6795\n",
      "    Euro: 6.5757\n",
      "    BTC: 361.801\n"
     ]
    }
   ],
   "source": [
    "import requests\n",
    "from tkinter import*\n",
    "\n",
    "def pegar_cotacoes():\n",
    "    requisicao = requests.get(\"https://economia.awesomeapi.com.br/last/USD-BRL,EUR-BRL,BTC-BRL\")\n",
    "\n",
    "    requisicao_dic = requisicao.json()\n",
    "\n",
    "    cotacao_dolar = requisicao_dic['USDBRL']['bid']\n",
    "    cotacao_euro = requisicao_dic['EURBRL']['bid']\n",
    "    cotacao_btc = requisicao_dic['BTCBRL']['bid']\n",
    "\n",
    "    texto = f'''\n",
    "    Dólar: {cotacao_dolar}\n",
    "    Euro: {cotacao_euro}\n",
    "    BTC: {cotacao_btc}'''\n",
    "\n",
    "    print(texto)\n",
    "\n",
    "pegar_cotacoes()\n",
    "\n",
    "janela = Tk()\n",
    "janela.title('Cotação')\n",
    "\n",
    "janela.mainloop()"
   ]
  },
  {
   "cell_type": "code",
   "execution_count": null,
   "id": "94d4abbd",
   "metadata": {},
   "outputs": [],
   "source": []
  }
 ],
 "metadata": {
  "kernelspec": {
   "display_name": "Python 3",
   "language": "python",
   "name": "python3"
  },
  "language_info": {
   "codemirror_mode": {
    "name": "ipython",
    "version": 3
   },
   "file_extension": ".py",
   "mimetype": "text/x-python",
   "name": "python",
   "nbconvert_exporter": "python",
   "pygments_lexer": "ipython3",
   "version": "3.8.8"
  }
 },
 "nbformat": 4,
 "nbformat_minor": 5
}
