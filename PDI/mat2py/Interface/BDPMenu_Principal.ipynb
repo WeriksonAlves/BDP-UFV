{
 "cells": [
  {
   "cell_type": "code",
   "execution_count": 1,
   "id": "0cbd45e0",
   "metadata": {
    "ExecuteTime": {
     "end_time": "2021-11-02T18:34:04.633959Z",
     "start_time": "2021-11-02T18:34:04.623990Z"
    }
   },
   "outputs": [],
   "source": [
    "#                           PLATAFORMA BDP 2022\n",
    "#\n",
    "# Conjunto de abas que permite ao usuario ter acesso às  informações do sistema através da interface gráfica. "
   ]
  },
  {
   "cell_type": "code",
   "execution_count": 1,
   "id": "7a579354",
   "metadata": {
    "ExecuteTime": {
     "end_time": "2021-11-02T18:34:18.516004Z",
     "start_time": "2021-11-02T18:34:05.063583Z"
    }
   },
   "outputs": [
    {
     "ename": "SystemExit",
     "evalue": "0",
     "output_type": "error",
     "traceback": [
      "An exception has occurred, use %tb to see the full traceback.\n",
      "\u001b[1;31mSystemExit\u001b[0m\u001b[1;31m:\u001b[0m 0\n"
     ]
    },
    {
     "name": "stderr",
     "output_type": "stream",
     "text": [
      "C:\\Users\\55329\\anaconda3\\lib\\site-packages\\IPython\\core\\interactiveshell.py:3445: UserWarning: To exit: use 'exit', 'quit', or Ctrl-D.\n",
      "  warn(\"To exit: use 'exit', 'quit', or Ctrl-D.\", stacklevel=1)\n"
     ]
    }
   ],
   "source": [
    "from BDPsystem import*\n",
    "\n",
    "def main(args):\n",
    "    app_proc = myApp()\n",
    "    app_proc.execute()\n",
    "    return 0\n",
    "\n",
    "\n",
    "if __name__ == '__main__':\n",
    "    sys.exit(main(sys.argv))"
   ]
  }
 ],
 "metadata": {
  "kernelspec": {
   "display_name": "Python 3",
   "language": "python",
   "name": "python3"
  },
  "language_info": {
   "codemirror_mode": {
    "name": "ipython",
    "version": 3
   },
   "file_extension": ".py",
   "mimetype": "text/x-python",
   "name": "python",
   "nbconvert_exporter": "python",
   "pygments_lexer": "ipython3",
   "version": "3.8.8"
  }
 },
 "nbformat": 4,
 "nbformat_minor": 5
}
