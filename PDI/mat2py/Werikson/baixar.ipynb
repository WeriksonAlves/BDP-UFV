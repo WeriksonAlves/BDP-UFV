{
 "cells": [
  {
   "cell_type": "code",
   "execution_count": 1,
   "metadata": {},
   "outputs": [
    {
     "name": "stdout",
     "output_type": "stream",
     "text": [
      "Collecting thread6\n",
      "  Downloading thread6-0.2.0-py3-none-any.whl (4.2 kB)\n",
      "Installing collected packages: thread6\n",
      "Successfully installed thread6-0.2.0\n",
      "Note: you may need to restart the kernel to use updated packages.\n"
     ]
    }
   ],
   "source": [
    "pip install thread6"
   ]
  }
 ],
 "metadata": {
  "interpreter": {
   "hash": "d012ca61647e472ccba26ea4e2ce3b3982dfcdcbbcaba85753d62c8f1b239abb"
  },
  "kernelspec": {
   "display_name": "Python 3.8.8 ('base')",
   "language": "python",
   "name": "python3"
  },
  "language_info": {
   "codemirror_mode": {
    "name": "ipython",
    "version": 3
   },
   "file_extension": ".py",
   "mimetype": "text/x-python",
   "name": "python",
   "nbconvert_exporter": "python",
   "pygments_lexer": "ipython3",
   "version": "3.8.8"
  },
  "orig_nbformat": 4
 },
 "nbformat": 4,
 "nbformat_minor": 2
}
